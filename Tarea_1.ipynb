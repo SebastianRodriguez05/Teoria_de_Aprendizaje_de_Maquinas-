{
  "nbformat": 4,
  "nbformat_minor": 0,
  "metadata": {
    "colab": {
      "provenance": [],
      "authorship_tag": "ABX9TyPaSu8N/D+IOODhn5NQnvBy",
      "include_colab_link": true
    },
    "kernelspec": {
      "name": "python3",
      "display_name": "Python 3"
    },
    "language_info": {
      "name": "python"
    }
  },
  "cells": [
    {
      "cell_type": "markdown",
      "metadata": {
        "id": "view-in-github",
        "colab_type": "text"
      },
      "source": [
        "<a href=\"https://colab.research.google.com/github/SebastianRodriguez05/Teoria_de_Aprendizaje_de_Maquinas-/blob/main/Tarea_1.ipynb\" target=\"_parent\"><img src=\"https://colab.research.google.com/assets/colab-badge.svg\" alt=\"Open In Colab\"/></a>"
      ]
    },
    {
      "cell_type": "markdown",
      "source": [
        "Necesito crear un código utilizando el teorema de bayes para resolver la incertidumbre de un problema donde tengo dos cajas una roja u la otra azul lo cual la roja tiene 6 manzanas y dos naranjas y la azul tiene 3 manzanas y 1 naranja dado que P(B = r) = 0.4 y P(B = b) = 0.6 me tiene que resolver los siguientes problemas:\n",
        "\n",
        "P(F=a) \\\n",
        "P(F=o) \\\n",
        "P(B=r | F=o) \\\n",
        "P(B=b | F=o) \\\n",
        "P(B=r | F=a) \\\n",
        "P(B=b | F=a) \\"
      ],
      "metadata": {
        "id": "chyw-snPl2wl"
      }
    },
    {
      "cell_type": "code",
      "execution_count": null,
      "metadata": {
        "colab": {
          "base_uri": "https://localhost:8080/"
        },
        "id": "ySt33ITkT20q",
        "outputId": "11362e75-2a79-4a3b-fe9c-9fc97891b1fa"
      },
      "outputs": [
        {
          "output_type": "stream",
          "name": "stdout",
          "text": [
            "P(F=a) = 0.58\n",
            "P(F=o) = 0.42\n",
            "P(B=r | F=o) = 0.64\n",
            "P(B=b | F=o) = 0.36\n",
            "P(B=r | F=a) = 0.23\n",
            "P(B=b | F=a) = 0.77\n"
          ]
        }
      ],
      "source": [
        "# Definimos las probabilidades iniciales\n",
        "P_B_r = 0.4  # Probabilidad de elegir la caja roja\n",
        "P_B_b = 0.6  # Probabilidad de elegir la caja azul\n",
        "\n",
        "# Conteo de frutas en cada caja\n",
        "rojas = {'apple': 3, 'orange': 6}\n",
        "azules = {'apple': 3, 'orange': 1}\n",
        "\n",
        "total_r = sum(rojas.values())\n",
        "total_b = sum(azules.values())\n",
        "\n",
        "def calcular_probabilidades():\n",
        "    # Probabilidad de escoger una fruta específica sin importar la caja\n",
        "    P_F_a = (rojas['apple'] / total_r) * P_B_r + (azules['apple'] / total_b) * P_B_b\n",
        "    P_F_o = (rojas['orange'] / total_r) * P_B_r + (azules['orange'] / total_b) * P_B_b\n",
        "\n",
        "    # Probabilidad de que la caja sea roja dado que la fruta es una naranja\n",
        "    P_B_r_dado_F_o = (rojas['orange'] / total_r * P_B_r) / P_F_o\n",
        "    P_B_b_dado_F_o = (azules['orange'] / total_b * P_B_b) / P_F_o\n",
        "\n",
        "    # Probabilidad de que la caja sea roja dado que la fruta es una manzana\n",
        "    P_B_r_dado_F_a = (rojas['apple'] / total_r * P_B_r) / P_F_a\n",
        "    P_B_b_dado_F_a = (azules['apple'] / total_b * P_B_b) / P_F_a\n",
        "\n",
        "    # Mostramos los resultados\n",
        "    print(f\"P(F=a) = {P_F_a:.2f}\")\n",
        "    print(f\"P(F=o) = {P_F_o:.2f}\")\n",
        "    print(f\"P(B=r | F=o) = {P_B_r_dado_F_o:.2f}\")\n",
        "    print(f\"P(B=b | F=o) = {P_B_b_dado_F_o:.2f}\")\n",
        "    print(f\"P(B=r | F=a) = {P_B_r_dado_F_a:.2f}\")\n",
        "    print(f\"P(B=b | F=a) = {P_B_b_dado_F_a:.2f}\")\n",
        "\n",
        "# Ejecutamos la función para calcular las probabilidades\n",
        "calcular_probabilidades()\n"
      ]
    },
    {
      "cell_type": "markdown",
      "source": [
        "Ahora necesito generalizar el código anterior para que me cumpla los siguientes parámetros:\n",
        "\n",
        "\n",
        "Primero, que el programa me pregunte cuántas cajas y cuántos tipos de frutas voy a usar.\n",
        "\n",
        "Después, que me pida ingresar la inicial de cada caja y la inicial de cada fruta, para poder identificarlas.\n",
        "\n",
        "Luego, que me permita ingresar la cantidad de cada fruta en cada caja, y que todo eso se guarde correctamente.\n",
        "\n",
        "Finalmente, quiero que el código calcule las probabilidades usando el teorema de Bayes para todas las combinaciones posibles de frutas y cajas. La idea es que funcione de forma totalmente generalizada, sin importar cuántas cajas o frutas haya.\n"
      ],
      "metadata": {
        "id": "WQXysLneuZQB"
      }
    },
    {
      "cell_type": "code",
      "source": [
        "def calcular_probabilidades():\n",
        "    # Paso 1: Entradas básicas\n",
        "    num_cajas = int(input(\"¿Cuántas cajas hay? \"))\n",
        "    num_frutas = int(input(\"¿Cuántos tipos de frutas hay? \"))\n",
        "\n",
        "    cajas = []\n",
        "    frutas = []\n",
        "\n",
        "    print(\"\\n--- Ingrese las iniciales de las cajas ---\")\n",
        "    for i in range(num_cajas):\n",
        "        caja = input(f\"Inicial para la caja {i+1}: \").strip().lower()\n",
        "        cajas.append(caja)\n",
        "\n",
        "    print(\"\\n--- Ingrese las iniciales de las frutas ---\")\n",
        "    for i in range(num_frutas):\n",
        "        fruta = input(f\"Inicial para la fruta {i+1}: \").strip().lower()\n",
        "        frutas.append(fruta)\n",
        "\n",
        "    print(\"\\n--- Ingrese las cantidades de cada fruta en cada caja ---\")\n",
        "    conteo = {}  # {caja: {fruta: cantidad}}\n",
        "    total_frutas_por_caja = {}\n",
        "\n",
        "    for caja in cajas:\n",
        "        conteo[caja] = {}\n",
        "        total = 0\n",
        "        for fruta in frutas:\n",
        "            cantidad = int(input(f\"Cantidad de fruta '{fruta}' en la caja '{caja}': \"))\n",
        "            conteo[caja][fruta] = cantidad\n",
        "            total += cantidad\n",
        "        total_frutas_por_caja[caja] = total\n",
        "\n",
        "    print(\"\\n--- Ingrese la probabilidad de elegir cada caja (debe sumar 1) ---\")\n",
        "    P_caja = {}\n",
        "    for caja in cajas:\n",
        "        P_caja[caja] = float(input(f\"P({caja}): \"))\n",
        "\n",
        "    # Paso 2: Calcular P(F_j | B_i)\n",
        "    P_fruta_dado_caja = {}\n",
        "    for caja in cajas:\n",
        "        P_fruta_dado_caja[caja] = {}\n",
        "        for fruta in frutas:\n",
        "            P_fruta_dado_caja[caja][fruta] = conteo[caja][fruta] / total_frutas_por_caja[caja]\n",
        "\n",
        "    # Paso 3: Calcular P(F_j)\n",
        "    P_fruta = {}\n",
        "    for fruta in frutas:\n",
        "        P_fruta[fruta] = sum(P_fruta_dado_caja[caja][fruta] * P_caja[caja] for caja in cajas)\n",
        "\n",
        "    # Paso 4: Calcular P(B_i | F_j) usando Bayes\n",
        "    P_caja_dado_fruta = {fruta: {} for fruta in frutas}\n",
        "    for fruta in frutas:\n",
        "        for caja in cajas:\n",
        "            numerador = P_fruta_dado_caja[caja][fruta] * P_caja[caja]\n",
        "            P_caja_dado_fruta[fruta][caja] = numerador / P_fruta[fruta]\n",
        "\n",
        "    # Mostrar resultados\n",
        "    print(\"\\n--- Resultados ---\")\n",
        "    for fruta in frutas:\n",
        "        print(f\"\\nPara la fruta '{fruta}':\")\n",
        "        print(f\"P({fruta}) = {P_fruta[fruta]:.4f}\")\n",
        "        for caja in cajas:\n",
        "            print(f\"P({caja} | {fruta}) = {P_caja_dado_fruta[fruta][caja]:.4f}\")\n",
        "\n",
        "# Ejecutar función\n",
        "calcular_probabilidades()\n"
      ],
      "metadata": {
        "colab": {
          "base_uri": "https://localhost:8080/"
        },
        "id": "kKdiqXrMYKEN",
        "outputId": "9a414747-5d4a-48ba-ecc2-c2d24f5c2389"
      },
      "execution_count": null,
      "outputs": [
        {
          "output_type": "stream",
          "name": "stdout",
          "text": [
            "¿Cuántas cajas hay? 2\n",
            "¿Cuántos tipos de frutas hay? 2\n",
            "\n",
            "--- Ingrese las iniciales de las cajas ---\n",
            "Inicial para la caja 1: r\n",
            "Inicial para la caja 2: g\n",
            "\n",
            "--- Ingrese las iniciales de las frutas ---\n",
            "Inicial para la fruta 1: d\n",
            "Inicial para la fruta 2: b\n",
            "\n",
            "--- Ingrese las cantidades de cada fruta en cada caja ---\n",
            "Cantidad de fruta 'd' en la caja 'r': 5\n",
            "Cantidad de fruta 'b' en la caja 'r': 1\n",
            "Cantidad de fruta 'd' en la caja 'g': 3\n",
            "Cantidad de fruta 'b' en la caja 'g': 4\n",
            "\n",
            "--- Ingrese la probabilidad de elegir cada caja (debe sumar 1) ---\n",
            "P(r): 0.6\n",
            "P(g): 0.4\n",
            "\n",
            "--- Resultados ---\n",
            "\n",
            "Para la fruta 'd':\n",
            "P(d) = 0.6714\n",
            "P(r | d) = 0.7447\n",
            "P(g | d) = 0.2553\n",
            "\n",
            "Para la fruta 'b':\n",
            "P(b) = 0.3286\n",
            "P(r | b) = 0.3043\n",
            "P(g | b) = 0.6957\n"
          ]
        }
      ]
    }
  ]
}